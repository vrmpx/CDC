{
 "cells": [
  {
   "cell_type": "code",
   "execution_count": 1,
   "metadata": {
    "collapsed": false
   },
   "outputs": [
    {
     "name": "stdout",
     "output_type": "stream",
     "text": [
      "Populating the interactive namespace from numpy and matplotlib\n"
     ]
    }
   ],
   "source": [
    "%pylab inline\n",
    "pylab.rcParams['figure.figsize'] = (10, 6)\n",
    "\n",
    "import pandas as pd\n",
    "import seaborn as sns\n",
    "import scipy.stats as stats"
   ]
  },
  {
   "cell_type": "code",
   "execution_count": 2,
   "metadata": {
    "collapsed": false
   },
   "outputs": [
    {
     "data": {
      "text/html": [
       "<div>\n",
       "<table border=\"1\" class=\"dataframe\">\n",
       "  <thead>\n",
       "    <tr style=\"text-align: right;\">\n",
       "      <th></th>\n",
       "      <th>FAMILY</th>\n",
       "      <th>TCGender</th>\n",
       "      <th>FB2</th>\n",
       "      <th>Eng2</th>\n",
       "      <th>FB3</th>\n",
       "      <th>Eng3</th>\n",
       "      <th>FB4</th>\n",
       "      <th>Eng4</th>\n",
       "      <th>FB5</th>\n",
       "      <th>Eng5</th>\n",
       "      <th>...</th>\n",
       "      <th>Obs4</th>\n",
       "      <th>Act4</th>\n",
       "      <th>Car4</th>\n",
       "      <th>Hop4</th>\n",
       "      <th>Vid4</th>\n",
       "      <th>Con5</th>\n",
       "      <th>Obs5</th>\n",
       "      <th>Act5</th>\n",
       "      <th>Car5</th>\n",
       "      <th>Hop5</th>\n",
       "    </tr>\n",
       "  </thead>\n",
       "  <tbody>\n",
       "    <tr>\n",
       "      <th>0</th>\n",
       "      <td>ESC319</td>\n",
       "      <td>8</td>\n",
       "      <td>5.0</td>\n",
       "      <td>4</td>\n",
       "      <td>999.0</td>\n",
       "      <td>999</td>\n",
       "      <td>4.2</td>\n",
       "      <td>4</td>\n",
       "      <td>4.200</td>\n",
       "      <td>5</td>\n",
       "      <td>...</td>\n",
       "      <td>4</td>\n",
       "      <td>4</td>\n",
       "      <td>5</td>\n",
       "      <td>5</td>\n",
       "      <td>0</td>\n",
       "      <td>5</td>\n",
       "      <td>4</td>\n",
       "      <td>4</td>\n",
       "      <td>4</td>\n",
       "      <td>4</td>\n",
       "    </tr>\n",
       "    <tr>\n",
       "      <th>1</th>\n",
       "      <td>ESC343</td>\n",
       "      <td>1</td>\n",
       "      <td>4.0</td>\n",
       "      <td>4</td>\n",
       "      <td>999.0</td>\n",
       "      <td>999</td>\n",
       "      <td>4.0</td>\n",
       "      <td>3</td>\n",
       "      <td>4.600</td>\n",
       "      <td>5</td>\n",
       "      <td>...</td>\n",
       "      <td>4</td>\n",
       "      <td>3</td>\n",
       "      <td>5</td>\n",
       "      <td>4</td>\n",
       "      <td>0</td>\n",
       "      <td>5</td>\n",
       "      <td>5</td>\n",
       "      <td>4</td>\n",
       "      <td>4</td>\n",
       "      <td>5</td>\n",
       "    </tr>\n",
       "    <tr>\n",
       "      <th>2</th>\n",
       "      <td>ESC413</td>\n",
       "      <td>1</td>\n",
       "      <td>5.8</td>\n",
       "      <td>4</td>\n",
       "      <td>6.4</td>\n",
       "      <td>7</td>\n",
       "      <td>4.4</td>\n",
       "      <td>4</td>\n",
       "      <td>5.924</td>\n",
       "      <td>9</td>\n",
       "      <td>...</td>\n",
       "      <td>5</td>\n",
       "      <td>4</td>\n",
       "      <td>5</td>\n",
       "      <td>4</td>\n",
       "      <td>0</td>\n",
       "      <td>8</td>\n",
       "      <td>8</td>\n",
       "      <td>8</td>\n",
       "      <td>8</td>\n",
       "      <td>9</td>\n",
       "    </tr>\n",
       "    <tr>\n",
       "      <th>3</th>\n",
       "      <td>ESC432</td>\n",
       "      <td>8</td>\n",
       "      <td>6.4</td>\n",
       "      <td>7</td>\n",
       "      <td>999.0</td>\n",
       "      <td>999</td>\n",
       "      <td>3.0</td>\n",
       "      <td>3</td>\n",
       "      <td>5.724</td>\n",
       "      <td>9</td>\n",
       "      <td>...</td>\n",
       "      <td>2</td>\n",
       "      <td>3</td>\n",
       "      <td>5</td>\n",
       "      <td>3</td>\n",
       "      <td>0</td>\n",
       "      <td>8</td>\n",
       "      <td>8</td>\n",
       "      <td>8</td>\n",
       "      <td>8</td>\n",
       "      <td>8</td>\n",
       "    </tr>\n",
       "    <tr>\n",
       "      <th>4</th>\n",
       "      <td>ESC452</td>\n",
       "      <td>8</td>\n",
       "      <td>3.6</td>\n",
       "      <td>4</td>\n",
       "      <td>999.0</td>\n",
       "      <td>999</td>\n",
       "      <td>5.4</td>\n",
       "      <td>6</td>\n",
       "      <td>3.800</td>\n",
       "      <td>4</td>\n",
       "      <td>...</td>\n",
       "      <td>5</td>\n",
       "      <td>5</td>\n",
       "      <td>5</td>\n",
       "      <td>6</td>\n",
       "      <td>0</td>\n",
       "      <td>5</td>\n",
       "      <td>4</td>\n",
       "      <td>4</td>\n",
       "      <td>3</td>\n",
       "      <td>3</td>\n",
       "    </tr>\n",
       "  </tbody>\n",
       "</table>\n",
       "<p>5 rows × 35 columns</p>\n",
       "</div>"
      ],
      "text/plain": [
       "   FAMILY  TCGender  FB2  Eng2    FB3  Eng3  FB4  Eng4    FB5 Eng5 ...   Obs4  \\\n",
       "0  ESC319         8  5.0     4  999.0   999  4.2     4  4.200    5 ...      4   \n",
       "1  ESC343         1  4.0     4  999.0   999  4.0     3  4.600    5 ...      4   \n",
       "2  ESC413         1  5.8     4    6.4     7  4.4     4  5.924    9 ...      5   \n",
       "3  ESC432         8  6.4     7  999.0   999  3.0     3  5.724    9 ...      2   \n",
       "4  ESC452         8  3.6     4  999.0   999  5.4     6  3.800    4 ...      5   \n",
       "\n",
       "   Act4  Car4  Hop4  Vid4  Con5  Obs5 Act5 Car5 Hop5  \n",
       "0     4     5     5     0     5     4    4    4    4  \n",
       "1     3     5     4     0     5     5    4    4    5  \n",
       "2     4     5     4     0     8     8    8    8    9  \n",
       "3     3     5     3     0     8     8    8    8    8  \n",
       "4     5     5     6     0     5     4    4    3    3  \n",
       "\n",
       "[5 rows x 35 columns]"
      ]
     },
     "execution_count": 2,
     "metadata": {},
     "output_type": "execute_result"
    }
   ],
   "source": [
    "scores = pd.read_csv(\"../data/ES_2-5_79cases_newVnames.csv\")\n",
    "scores.head()"
   ]
  },
  {
   "cell_type": "code",
   "execution_count": 3,
   "metadata": {
    "collapsed": false
   },
   "outputs": [
    {
     "data": {
      "text/html": [
       "<div>\n",
       "<table border=\"1\" class=\"dataframe\">\n",
       "  <thead>\n",
       "    <tr style=\"text-align: right;\">\n",
       "      <th></th>\n",
       "      <th>Source (A)</th>\n",
       "      <th>Source (B)</th>\n",
       "      <th>Source (C)</th>\n",
       "      <th>WC</th>\n",
       "      <th>Analytic</th>\n",
       "      <th>Clout</th>\n",
       "      <th>Authentic</th>\n",
       "      <th>Tone</th>\n",
       "      <th>WPS</th>\n",
       "      <th>Sixltr</th>\n",
       "      <th>...</th>\n",
       "      <th>relig</th>\n",
       "      <th>death</th>\n",
       "      <th>informal</th>\n",
       "      <th>swear</th>\n",
       "      <th>netspeak</th>\n",
       "      <th>assent</th>\n",
       "      <th>nonflu</th>\n",
       "      <th>filler</th>\n",
       "      <th>FAMILY</th>\n",
       "      <th>Hop2</th>\n",
       "    </tr>\n",
       "  </thead>\n",
       "  <tbody>\n",
       "    <tr>\n",
       "      <th>0</th>\n",
       "      <td>ESC805A2FB_1</td>\n",
       "      <td>&lt;EMPTY&gt;</td>\n",
       "      <td>[0:00:00]</td>\n",
       "      <td>3</td>\n",
       "      <td>92.84</td>\n",
       "      <td>50.0</td>\n",
       "      <td>1.0</td>\n",
       "      <td>25.77</td>\n",
       "      <td>3.0</td>\n",
       "      <td>0.0</td>\n",
       "      <td>...</td>\n",
       "      <td>0.0</td>\n",
       "      <td>0.0</td>\n",
       "      <td>0.0</td>\n",
       "      <td>0.0</td>\n",
       "      <td>0.0</td>\n",
       "      <td>0.0</td>\n",
       "      <td>0.0</td>\n",
       "      <td>0.0</td>\n",
       "      <td>ESC805</td>\n",
       "      <td>3.0</td>\n",
       "    </tr>\n",
       "    <tr>\n",
       "      <th>1</th>\n",
       "      <td>ESC805A2FB_1</td>\n",
       "      <td>&lt;EMPTY&gt;</td>\n",
       "      <td>NaN</td>\n",
       "      <td>0</td>\n",
       "      <td>0.00</td>\n",
       "      <td>0.0</td>\n",
       "      <td>0.0</td>\n",
       "      <td>0.00</td>\n",
       "      <td>0.0</td>\n",
       "      <td>0.0</td>\n",
       "      <td>...</td>\n",
       "      <td>0.0</td>\n",
       "      <td>0.0</td>\n",
       "      <td>0.0</td>\n",
       "      <td>0.0</td>\n",
       "      <td>0.0</td>\n",
       "      <td>0.0</td>\n",
       "      <td>0.0</td>\n",
       "      <td>0.0</td>\n",
       "      <td>ESC805</td>\n",
       "      <td>3.0</td>\n",
       "    </tr>\n",
       "    <tr>\n",
       "      <th>2</th>\n",
       "      <td>ESC805A2FB_1</td>\n",
       "      <td>&lt;EMPTY&gt;</td>\n",
       "      <td>[Side Conversation]</td>\n",
       "      <td>2</td>\n",
       "      <td>92.84</td>\n",
       "      <td>99.0</td>\n",
       "      <td>99.0</td>\n",
       "      <td>25.77</td>\n",
       "      <td>2.0</td>\n",
       "      <td>50.0</td>\n",
       "      <td>...</td>\n",
       "      <td>0.0</td>\n",
       "      <td>0.0</td>\n",
       "      <td>0.0</td>\n",
       "      <td>0.0</td>\n",
       "      <td>0.0</td>\n",
       "      <td>0.0</td>\n",
       "      <td>0.0</td>\n",
       "      <td>0.0</td>\n",
       "      <td>ESC805</td>\n",
       "      <td>3.0</td>\n",
       "    </tr>\n",
       "    <tr>\n",
       "      <th>3</th>\n",
       "      <td>ESC805A2FB_1</td>\n",
       "      <td>&lt;EMPTY&gt;</td>\n",
       "      <td>NaN</td>\n",
       "      <td>0</td>\n",
       "      <td>0.00</td>\n",
       "      <td>0.0</td>\n",
       "      <td>0.0</td>\n",
       "      <td>0.00</td>\n",
       "      <td>0.0</td>\n",
       "      <td>0.0</td>\n",
       "      <td>...</td>\n",
       "      <td>0.0</td>\n",
       "      <td>0.0</td>\n",
       "      <td>0.0</td>\n",
       "      <td>0.0</td>\n",
       "      <td>0.0</td>\n",
       "      <td>0.0</td>\n",
       "      <td>0.0</td>\n",
       "      <td>0.0</td>\n",
       "      <td>ESC805</td>\n",
       "      <td>3.0</td>\n",
       "    </tr>\n",
       "    <tr>\n",
       "      <th>4</th>\n",
       "      <td>ESC805A2FB_1</td>\n",
       "      <td>&lt;EMPTY&gt;</td>\n",
       "      <td>[0:01:00]</td>\n",
       "      <td>3</td>\n",
       "      <td>92.84</td>\n",
       "      <td>50.0</td>\n",
       "      <td>1.0</td>\n",
       "      <td>25.77</td>\n",
       "      <td>3.0</td>\n",
       "      <td>0.0</td>\n",
       "      <td>...</td>\n",
       "      <td>0.0</td>\n",
       "      <td>0.0</td>\n",
       "      <td>0.0</td>\n",
       "      <td>0.0</td>\n",
       "      <td>0.0</td>\n",
       "      <td>0.0</td>\n",
       "      <td>0.0</td>\n",
       "      <td>0.0</td>\n",
       "      <td>ESC805</td>\n",
       "      <td>3.0</td>\n",
       "    </tr>\n",
       "  </tbody>\n",
       "</table>\n",
       "<p>5 rows × 86 columns</p>\n",
       "</div>"
      ],
      "text/plain": [
       "     Source (A) Source (B)           Source (C)  WC  Analytic  Clout  \\\n",
       "0  ESC805A2FB_1    <EMPTY>            [0:00:00]   3     92.84   50.0   \n",
       "1  ESC805A2FB_1    <EMPTY>                  NaN   0      0.00    0.0   \n",
       "2  ESC805A2FB_1    <EMPTY>  [Side Conversation]   2     92.84   99.0   \n",
       "3  ESC805A2FB_1    <EMPTY>                  NaN   0      0.00    0.0   \n",
       "4  ESC805A2FB_1    <EMPTY>            [0:01:00]   3     92.84   50.0   \n",
       "\n",
       "   Authentic   Tone  WPS  Sixltr  ...   relig  death  informal  swear  \\\n",
       "0        1.0  25.77  3.0     0.0  ...     0.0    0.0       0.0    0.0   \n",
       "1        0.0   0.00  0.0     0.0  ...     0.0    0.0       0.0    0.0   \n",
       "2       99.0  25.77  2.0    50.0  ...     0.0    0.0       0.0    0.0   \n",
       "3        0.0   0.00  0.0     0.0  ...     0.0    0.0       0.0    0.0   \n",
       "4        1.0  25.77  3.0     0.0  ...     0.0    0.0       0.0    0.0   \n",
       "\n",
       "   netspeak  assent  nonflu  filler  FAMILY  Hop2  \n",
       "0       0.0     0.0     0.0     0.0  ESC805   3.0  \n",
       "1       0.0     0.0     0.0     0.0  ESC805   3.0  \n",
       "2       0.0     0.0     0.0     0.0  ESC805   3.0  \n",
       "3       0.0     0.0     0.0     0.0  ESC805   3.0  \n",
       "4       0.0     0.0     0.0     0.0  ESC805   3.0  \n",
       "\n",
       "[5 rows x 86 columns]"
      ]
     },
     "execution_count": 3,
     "metadata": {},
     "output_type": "execute_result"
    }
   ],
   "source": [
    "liwc = pd.read_csv(\"../data/LIWC2015 Results (allFiles).csv\")\n",
    "\n",
    "# Obtain family name for merge w/ scores\n",
    "liwc['FAMILY'] = liwc['Source (A)'].apply(lambda x: x.split()[0].split(\"-\")[0].split(\"_\")[0].replace(\"A2FB\", \"\"))\n",
    "\n",
    "# Replace 999 w/ nan\n",
    "# TODO:\n",
    "\n",
    "# Merge score with liwc d.f.\n",
    "liwc = pd.merge(liwc, scores[['FAMILY', 'Hop2']], left_on = 'FAMILY', right_on = 'FAMILY', how = 'left')\n",
    "\n",
    "liwc.head()"
   ]
  },
  {
   "cell_type": "markdown",
   "metadata": {},
   "source": [
    "# Utterance-level analysis\n",
    "\n",
    "By joining all 12 sessions, we got enough utterances to make some initial statistical analysis feasible. We first explore the hypothesis of differences between Therapists and clients, and then we explore correlations between variables and scores.\n"
   ]
  },
  {
   "cell_type": "markdown",
   "metadata": {},
   "source": [
    "## Differences between therapist and other"
   ]
  },
  {
   "cell_type": "code",
   "execution_count": 4,
   "metadata": {
    "collapsed": false
   },
   "outputs": [
    {
     "data": {
      "text/html": [
       "<div>\n",
       "<table border=\"1\" class=\"dataframe\">\n",
       "  <thead>\n",
       "    <tr style=\"text-align: right;\">\n",
       "      <th></th>\n",
       "      <th>Source (A)</th>\n",
       "      <th>WC</th>\n",
       "    </tr>\n",
       "  </thead>\n",
       "  <tbody>\n",
       "    <tr>\n",
       "      <th>8</th>\n",
       "      <td>ESC805A2FB_1</td>\n",
       "      <td>62</td>\n",
       "    </tr>\n",
       "    <tr>\n",
       "      <th>12</th>\n",
       "      <td>ESC805A2FB_1</td>\n",
       "      <td>1</td>\n",
       "    </tr>\n",
       "    <tr>\n",
       "      <th>14</th>\n",
       "      <td>ESC805A2FB_1</td>\n",
       "      <td>137</td>\n",
       "    </tr>\n",
       "    <tr>\n",
       "      <th>20</th>\n",
       "      <td>ESC805A2FB_1</td>\n",
       "      <td>11</td>\n",
       "    </tr>\n",
       "    <tr>\n",
       "      <th>22</th>\n",
       "      <td>ESC805A2FB_1</td>\n",
       "      <td>4</td>\n",
       "    </tr>\n",
       "  </tbody>\n",
       "</table>\n",
       "</div>"
      ],
      "text/plain": [
       "      Source (A)   WC\n",
       "8   ESC805A2FB_1   62\n",
       "12  ESC805A2FB_1    1\n",
       "14  ESC805A2FB_1  137\n",
       "20  ESC805A2FB_1   11\n",
       "22  ESC805A2FB_1    4"
      ]
     },
     "execution_count": 4,
     "metadata": {},
     "output_type": "execute_result"
    }
   ],
   "source": [
    "# drop <EMPTY> from liwc\n",
    "liwc = liwc[liwc['Source (B)'] != \"<EMPTY>\"]\n",
    "liwc[['Source (A)', 'WC']].head()"
   ]
  },
  {
   "cell_type": "code",
   "execution_count": 5,
   "metadata": {
    "collapsed": false
   },
   "outputs": [
    {
     "data": {
      "text/html": [
       "<div>\n",
       "<table border=\"1\" class=\"dataframe\">\n",
       "  <thead>\n",
       "    <tr style=\"text-align: right;\">\n",
       "      <th></th>\n",
       "      <th>Source (A)</th>\n",
       "      <th>Source (B)</th>\n",
       "      <th>WC</th>\n",
       "      <th>Analytic</th>\n",
       "      <th>Clout</th>\n",
       "      <th>Authentic</th>\n",
       "      <th>Tone</th>\n",
       "      <th>WPS</th>\n",
       "      <th>Sixltr</th>\n",
       "      <th>Dic</th>\n",
       "      <th>...</th>\n",
       "      <th>death</th>\n",
       "      <th>informal</th>\n",
       "      <th>swear</th>\n",
       "      <th>netspeak</th>\n",
       "      <th>assent</th>\n",
       "      <th>nonflu</th>\n",
       "      <th>filler</th>\n",
       "      <th>FAMILY</th>\n",
       "      <th>Hop2</th>\n",
       "      <th>therapist</th>\n",
       "    </tr>\n",
       "  </thead>\n",
       "  <tbody>\n",
       "    <tr>\n",
       "      <th>8</th>\n",
       "      <td>ESC805A2FB_1</td>\n",
       "      <td>Interviewer</td>\n",
       "      <td>62</td>\n",
       "      <td>2.36</td>\n",
       "      <td>87.06</td>\n",
       "      <td>70.28</td>\n",
       "      <td>7.28</td>\n",
       "      <td>10.33</td>\n",
       "      <td>11.29</td>\n",
       "      <td>98.39</td>\n",
       "      <td>...</td>\n",
       "      <td>0.0</td>\n",
       "      <td>3.23</td>\n",
       "      <td>0.0</td>\n",
       "      <td>3.23</td>\n",
       "      <td>0.00</td>\n",
       "      <td>0.0</td>\n",
       "      <td>0.0</td>\n",
       "      <td>ESC805</td>\n",
       "      <td>3.0</td>\n",
       "      <td>True</td>\n",
       "    </tr>\n",
       "    <tr>\n",
       "      <th>12</th>\n",
       "      <td>ESC805A2FB_1</td>\n",
       "      <td>Interviewee</td>\n",
       "      <td>1</td>\n",
       "      <td>92.84</td>\n",
       "      <td>50.00</td>\n",
       "      <td>99.00</td>\n",
       "      <td>25.77</td>\n",
       "      <td>1.00</td>\n",
       "      <td>0.00</td>\n",
       "      <td>100.00</td>\n",
       "      <td>...</td>\n",
       "      <td>0.0</td>\n",
       "      <td>0.00</td>\n",
       "      <td>0.0</td>\n",
       "      <td>0.00</td>\n",
       "      <td>0.00</td>\n",
       "      <td>0.0</td>\n",
       "      <td>0.0</td>\n",
       "      <td>ESC805</td>\n",
       "      <td>3.0</td>\n",
       "      <td>False</td>\n",
       "    </tr>\n",
       "    <tr>\n",
       "      <th>14</th>\n",
       "      <td>ESC805A2FB_1</td>\n",
       "      <td>Interviewer</td>\n",
       "      <td>137</td>\n",
       "      <td>30.25</td>\n",
       "      <td>97.94</td>\n",
       "      <td>77.57</td>\n",
       "      <td>53.20</td>\n",
       "      <td>10.54</td>\n",
       "      <td>10.95</td>\n",
       "      <td>98.54</td>\n",
       "      <td>...</td>\n",
       "      <td>0.0</td>\n",
       "      <td>3.65</td>\n",
       "      <td>0.0</td>\n",
       "      <td>1.46</td>\n",
       "      <td>2.19</td>\n",
       "      <td>0.0</td>\n",
       "      <td>0.0</td>\n",
       "      <td>ESC805</td>\n",
       "      <td>3.0</td>\n",
       "      <td>True</td>\n",
       "    </tr>\n",
       "    <tr>\n",
       "      <th>20</th>\n",
       "      <td>ESC805A2FB_1</td>\n",
       "      <td>Interviewee</td>\n",
       "      <td>11</td>\n",
       "      <td>79.25</td>\n",
       "      <td>18.16</td>\n",
       "      <td>85.21</td>\n",
       "      <td>25.77</td>\n",
       "      <td>11.00</td>\n",
       "      <td>0.00</td>\n",
       "      <td>90.91</td>\n",
       "      <td>...</td>\n",
       "      <td>0.0</td>\n",
       "      <td>9.09</td>\n",
       "      <td>0.0</td>\n",
       "      <td>9.09</td>\n",
       "      <td>0.00</td>\n",
       "      <td>0.0</td>\n",
       "      <td>0.0</td>\n",
       "      <td>ESC805</td>\n",
       "      <td>3.0</td>\n",
       "      <td>False</td>\n",
       "    </tr>\n",
       "    <tr>\n",
       "      <th>22</th>\n",
       "      <td>ESC805A2FB_1</td>\n",
       "      <td>Interviewer</td>\n",
       "      <td>4</td>\n",
       "      <td>37.39</td>\n",
       "      <td>50.00</td>\n",
       "      <td>1.00</td>\n",
       "      <td>25.77</td>\n",
       "      <td>2.00</td>\n",
       "      <td>0.00</td>\n",
       "      <td>100.00</td>\n",
       "      <td>...</td>\n",
       "      <td>0.0</td>\n",
       "      <td>25.00</td>\n",
       "      <td>0.0</td>\n",
       "      <td>0.00</td>\n",
       "      <td>25.00</td>\n",
       "      <td>0.0</td>\n",
       "      <td>0.0</td>\n",
       "      <td>ESC805</td>\n",
       "      <td>3.0</td>\n",
       "      <td>True</td>\n",
       "    </tr>\n",
       "  </tbody>\n",
       "</table>\n",
       "<p>5 rows × 86 columns</p>\n",
       "</div>"
      ],
      "text/plain": [
       "      Source (A)   Source (B)   WC  Analytic  Clout  Authentic   Tone    WPS  \\\n",
       "8   ESC805A2FB_1  Interviewer   62      2.36  87.06      70.28   7.28  10.33   \n",
       "12  ESC805A2FB_1  Interviewee    1     92.84  50.00      99.00  25.77   1.00   \n",
       "14  ESC805A2FB_1  Interviewer  137     30.25  97.94      77.57  53.20  10.54   \n",
       "20  ESC805A2FB_1  Interviewee   11     79.25  18.16      85.21  25.77  11.00   \n",
       "22  ESC805A2FB_1  Interviewer    4     37.39  50.00       1.00  25.77   2.00   \n",
       "\n",
       "    Sixltr     Dic    ...      death  informal  swear  netspeak  assent  \\\n",
       "8    11.29   98.39    ...        0.0      3.23    0.0      3.23    0.00   \n",
       "12    0.00  100.00    ...        0.0      0.00    0.0      0.00    0.00   \n",
       "14   10.95   98.54    ...        0.0      3.65    0.0      1.46    2.19   \n",
       "20    0.00   90.91    ...        0.0      9.09    0.0      9.09    0.00   \n",
       "22    0.00  100.00    ...        0.0     25.00    0.0      0.00   25.00   \n",
       "\n",
       "    nonflu  filler  FAMILY  Hop2  therapist  \n",
       "8      0.0     0.0  ESC805   3.0       True  \n",
       "12     0.0     0.0  ESC805   3.0      False  \n",
       "14     0.0     0.0  ESC805   3.0       True  \n",
       "20     0.0     0.0  ESC805   3.0      False  \n",
       "22     0.0     0.0  ESC805   3.0       True  \n",
       "\n",
       "[5 rows x 86 columns]"
      ]
     },
     "execution_count": 5,
     "metadata": {},
     "output_type": "execute_result"
    }
   ],
   "source": [
    "therapist = ['Interviewer', 'Therapist']\n",
    "\n",
    "# make a new column\n",
    "liwc['therapist'] = False\n",
    "liwc.ix[liwc['Source (B)'].isin(therapist),'therapist'] = True\n",
    "\n",
    "liwc.drop('Source (C)', axis = 1).head()"
   ]
  },
  {
   "cell_type": "markdown",
   "metadata": {},
   "source": [
    "### Speaker turns and number of words\n",
    "We already know that for most of the sessions, the therapist speaks about half of the time. We just need to make sure this is still happening. Moreover, we can now check the percentage of words spoken by each party. And correlate that with the scores per session."
   ]
  },
  {
   "cell_type": "code",
   "execution_count": 6,
   "metadata": {
    "collapsed": true
   },
   "outputs": [],
   "source": [
    "#TODO: speaker turns"
   ]
  },
  {
   "cell_type": "code",
   "execution_count": 7,
   "metadata": {
    "collapsed": false,
    "scrolled": true
   },
   "outputs": [
    {
     "data": {
      "image/png": "[encoded data removed]",
      "text/plain": [
       "<matplotlib.figure.Figure at 0x10de70080>"
      ]
     },
     "metadata": {},
     "output_type": "display_data"
    }
   ],
   "source": [
    "sns.boxplot(x = \"therapist\", y = \"WC\", data = liwc);"
   ]
  },
  {
   "cell_type": "markdown",
   "metadata": {},
   "source": [
    "Since we cannot be certain that the sampled populations have the same variance (Levene's test, $p < 0.01$), there is no point in performing a t-test. Thus, we perform a non-parametric Mann-Whitney test. The differences in medians between the __word count__ of therapists and clients is signficant ($p < 0.001$)."
   ]
  },
  {
   "cell_type": "code",
   "execution_count": 8,
   "metadata": {
    "collapsed": false
   },
   "outputs": [
    {
     "data": {
      "text/plain": [
       "LeveneResult(statistic=21.73130579816722, pvalue=3.2180652080058934e-06)"
      ]
     },
     "execution_count": 8,
     "metadata": {},
     "output_type": "execute_result"
    }
   ],
   "source": [
    "therapist_d = liwc[liwc.therapist == True]['WC']\n",
    "other_d = liwc[liwc.therapist != True]['WC']\n",
    "\n",
    "\n",
    "# Check for equal variances\n",
    "stats.levene(therapist_d, other_d, center = 'mean')"
   ]
  },
  {
   "cell_type": "code",
   "execution_count": 9,
   "metadata": {
    "collapsed": false
   },
   "outputs": [
    {
     "data": {
      "text/plain": [
       "MannwhitneyuResult(statistic=2546304.5, pvalue=2.379976470395765e-27)"
      ]
     },
     "execution_count": 9,
     "metadata": {},
     "output_type": "execute_result"
    }
   ],
   "source": [
    "stats.mannwhitneyu(therapist_d, other_d)"
   ]
  },
  {
   "cell_type": "code",
   "execution_count": 10,
   "metadata": {
    "collapsed": false
   },
   "outputs": [
    {
     "data": {
      "text/plain": [
       "SpearmanrResult(correlation=0.11201954352672236, pvalue=8.0874312969775771e-08)"
      ]
     },
     "execution_count": 10,
     "metadata": {},
     "output_type": "execute_result"
    }
   ],
   "source": [
    "# Spearman's correlation w/ score\n",
    "stats.spearmanr(therapist_d, liwc.ix[liwc.therapist == True, 'Hop2'])"
   ]
  },
  {
   "cell_type": "markdown",
   "metadata": {},
   "source": [
    "## Differences in the psycholinguistics"
   ]
  },
  {
   "cell_type": "code",
   "execution_count": null,
   "metadata": {
    "collapsed": true
   },
   "outputs": [],
   "source": []
  }
 ],
 "metadata": {
  "anaconda-cloud": {},
  "kernelspec": {
   "display_name": "Python [default]",
   "language": "python",
   "name": "python3"
  },
  "language_info": {
   "codemirror_mode": {
    "name": "ipython",
    "version": 3
   },
   "file_extension": ".py",
   "mimetype": "text/x-python",
   "name": "python",
   "nbconvert_exporter": "python",
   "pygments_lexer": "ipython3",
   "version": "3.5.2"
  }
 },
 "nbformat": 4,
 "nbformat_minor": 1
}
