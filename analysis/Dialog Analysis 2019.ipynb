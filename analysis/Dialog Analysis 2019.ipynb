{
 "cells": [
  {
   "cell_type": "markdown",
   "metadata": {},
   "source": [
    "# Dialogue Act Analysis (2019)"
   ]
  },
  {
   "cell_type": "code",
   "execution_count": 107,
   "metadata": {},
   "outputs": [
    {
     "name": "stdout",
     "output_type": "stream",
     "text": [
      "Populating the interactive namespace from numpy and matplotlib\n"
     ]
    }
   ],
   "source": [
    "%pylab inline\n",
    "pylab.rcParams['figure.figsize'] = (13, 10)\n",
    "\n",
    "import re\n",
    "import pandas as pd\n",
    "import seaborn as sns\n",
    "import scipy as sp\n",
    "from scipy import stats\n",
    "\n",
    "from pandas.plotting import parallel_coordinates\n",
    "from sklearn.preprocessing import MinMaxScaler\n",
    "from sklearn.linear_model import LinearRegression\n",
    "from sklearn.feature_selection import VarianceThreshold\n",
    "\n",
    "from collections import Counter\n",
    "import statsmodels.api as sm\n",
    "import statsmodels.formula.api as smf\n",
    "\n",
    "import itertools"
   ]
  },
  {
   "cell_type": "markdown",
   "metadata": {},
   "source": [
    "## Load data\n",
    "Read all the tags from Nikos' file. From 1st column obtain filename, speaker and lineno"
   ]
  },
  {
   "cell_type": "code",
   "execution_count": 51,
   "metadata": {},
   "outputs": [
    {
     "data": {
      "text/html": [
       "<div>\n",
       "<style scoped>\n",
       "    .dataframe tbody tr th:only-of-type {\n",
       "        vertical-align: middle;\n",
       "    }\n",
       "\n",
       "    .dataframe tbody tr th {\n",
       "        vertical-align: top;\n",
       "    }\n",
       "\n",
       "    .dataframe thead th {\n",
       "        text-align: right;\n",
       "    }\n",
       "</style>\n",
       "<table border=\"1\" class=\"dataframe\">\n",
       "  <thead>\n",
       "    <tr style=\"text-align: right;\">\n",
       "      <th></th>\n",
       "      <th>filename.role</th>\n",
       "      <th>tag</th>\n",
       "    </tr>\n",
       "  </thead>\n",
       "  <tbody>\n",
       "    <tr>\n",
       "      <th>0</th>\n",
       "      <td>f_1.000001.Provider</td>\n",
       "      <td>Question</td>\n",
       "    </tr>\n",
       "    <tr>\n",
       "      <th>1</th>\n",
       "      <td>f_1.000002.Caregiver</td>\n",
       "      <td>Other</td>\n",
       "    </tr>\n",
       "    <tr>\n",
       "      <th>2</th>\n",
       "      <td>f_1.000003.Provider</td>\n",
       "      <td>Statement</td>\n",
       "    </tr>\n",
       "    <tr>\n",
       "      <th>3</th>\n",
       "      <td>f_1.000004.Caregiver</td>\n",
       "      <td>Backchannel</td>\n",
       "    </tr>\n",
       "    <tr>\n",
       "      <th>4</th>\n",
       "      <td>f_1.000005.Provider</td>\n",
       "      <td>Statement</td>\n",
       "    </tr>\n",
       "  </tbody>\n",
       "</table>\n",
       "</div>"
      ],
      "text/plain": [
       "          filename.role          tag\n",
       "0   f_1.000001.Provider     Question\n",
       "1  f_1.000002.Caregiver        Other\n",
       "2   f_1.000003.Provider    Statement\n",
       "3  f_1.000004.Caregiver  Backchannel\n",
       "4   f_1.000005.Provider    Statement"
      ]
     },
     "execution_count": 51,
     "metadata": {},
     "output_type": "execute_result"
    }
   ],
   "source": [
    "tags = pd.read_csv(\"../data/DA_ENGLISH_CDC/final_acts_transcribed.txt\", sep = \"\\t\", names=['filename.role', \"tag\"])\n",
    "tags.head()"
   ]
  },
  {
   "cell_type": "code",
   "execution_count": 52,
   "metadata": {},
   "outputs": [
    {
     "data": {
      "text/html": [
       "<div>\n",
       "<style scoped>\n",
       "    .dataframe tbody tr th:only-of-type {\n",
       "        vertical-align: middle;\n",
       "    }\n",
       "\n",
       "    .dataframe tbody tr th {\n",
       "        vertical-align: top;\n",
       "    }\n",
       "\n",
       "    .dataframe thead th {\n",
       "        text-align: right;\n",
       "    }\n",
       "</style>\n",
       "<table border=\"1\" class=\"dataframe\">\n",
       "  <thead>\n",
       "    <tr style=\"text-align: right;\">\n",
       "      <th></th>\n",
       "      <th>filename.role</th>\n",
       "      <th>tag</th>\n",
       "      <th>file</th>\n",
       "      <th>lineno</th>\n",
       "      <th>speaker</th>\n",
       "    </tr>\n",
       "  </thead>\n",
       "  <tbody>\n",
       "    <tr>\n",
       "      <th>0</th>\n",
       "      <td>f_1.000001.Provider</td>\n",
       "      <td>Question</td>\n",
       "      <td>f_1</td>\n",
       "      <td>000001</td>\n",
       "      <td>Provider</td>\n",
       "    </tr>\n",
       "    <tr>\n",
       "      <th>1</th>\n",
       "      <td>f_1.000002.Caregiver</td>\n",
       "      <td>Other</td>\n",
       "      <td>f_1</td>\n",
       "      <td>000002</td>\n",
       "      <td>Caregiver</td>\n",
       "    </tr>\n",
       "    <tr>\n",
       "      <th>2</th>\n",
       "      <td>f_1.000003.Provider</td>\n",
       "      <td>Statement</td>\n",
       "      <td>f_1</td>\n",
       "      <td>000003</td>\n",
       "      <td>Provider</td>\n",
       "    </tr>\n",
       "    <tr>\n",
       "      <th>3</th>\n",
       "      <td>f_1.000004.Caregiver</td>\n",
       "      <td>Backchannel</td>\n",
       "      <td>f_1</td>\n",
       "      <td>000004</td>\n",
       "      <td>Caregiver</td>\n",
       "    </tr>\n",
       "    <tr>\n",
       "      <th>4</th>\n",
       "      <td>f_1.000005.Provider</td>\n",
       "      <td>Statement</td>\n",
       "      <td>f_1</td>\n",
       "      <td>000005</td>\n",
       "      <td>Provider</td>\n",
       "    </tr>\n",
       "  </tbody>\n",
       "</table>\n",
       "</div>"
      ],
      "text/plain": [
       "          filename.role          tag file  lineno    speaker\n",
       "0   f_1.000001.Provider     Question  f_1  000001   Provider\n",
       "1  f_1.000002.Caregiver        Other  f_1  000002  Caregiver\n",
       "2   f_1.000003.Provider    Statement  f_1  000003   Provider\n",
       "3  f_1.000004.Caregiver  Backchannel  f_1  000004  Caregiver\n",
       "4   f_1.000005.Provider    Statement  f_1  000005   Provider"
      ]
     },
     "execution_count": 52,
     "metadata": {},
     "output_type": "execute_result"
    }
   ],
   "source": [
    "tags[['file', 'lineno', 'speaker']] = tags['filename.role'].str.split(\".\").apply(pd.Series)\n",
    "tags.head()"
   ]
  },
  {
   "cell_type": "markdown",
   "metadata": {},
   "source": [
    "## Sanity check\n",
    "(My sanity, of course)"
   ]
  },
  {
   "cell_type": "code",
   "execution_count": 53,
   "metadata": {},
   "outputs": [
    {
     "data": {
      "text/plain": [
       "array(['Provider', 'Caregiver', 'Child', 'Female', 'Provider:',\n",
       "       'Caregiver1', 'Caregiver2', 'Caitlyn', 'Francisco', 'Serenity',\n",
       "       'Gabby', 'Caretaker', 'Grandmother', 'Daughter', 'Speaker',\n",
       "       'FemaleChild', 'Interviewer', 'Interviewee'], dtype=object)"
      ]
     },
     "execution_count": 53,
     "metadata": {},
     "output_type": "execute_result"
    }
   ],
   "source": [
    "tags.speaker.unique()"
   ]
  },
  {
   "cell_type": "markdown",
   "metadata": {},
   "source": [
    "**So there are Providers (with and without colon), \n",
    "interviewers and interviewee, Speaker?**"
   ]
  },
  {
   "cell_type": "markdown",
   "metadata": {},
   "source": [
    "**... what is a Serenity?**"
   ]
  },
  {
   "cell_type": "code",
   "execution_count": 54,
   "metadata": {},
   "outputs": [
    {
     "data": {
      "text/html": [
       "<div>\n",
       "<style scoped>\n",
       "    .dataframe tbody tr th:only-of-type {\n",
       "        vertical-align: middle;\n",
       "    }\n",
       "\n",
       "    .dataframe tbody tr th {\n",
       "        vertical-align: top;\n",
       "    }\n",
       "\n",
       "    .dataframe thead th {\n",
       "        text-align: right;\n",
       "    }\n",
       "</style>\n",
       "<table border=\"1\" class=\"dataframe\">\n",
       "  <thead>\n",
       "    <tr style=\"text-align: right;\">\n",
       "      <th></th>\n",
       "      <th>filename.role</th>\n",
       "      <th>tag</th>\n",
       "      <th>file</th>\n",
       "      <th>lineno</th>\n",
       "      <th>speaker</th>\n",
       "      <th>is_therapist</th>\n",
       "    </tr>\n",
       "  </thead>\n",
       "  <tbody>\n",
       "    <tr>\n",
       "      <th>4625</th>\n",
       "      <td>f_15.000206.Caregiver</td>\n",
       "      <td>Statement</td>\n",
       "      <td>f_15</td>\n",
       "      <td>000206</td>\n",
       "      <td>Caregiver</td>\n",
       "      <td>False</td>\n",
       "    </tr>\n",
       "    <tr>\n",
       "      <th>8199</th>\n",
       "      <td>f_21.000051.Provider</td>\n",
       "      <td>Statement</td>\n",
       "      <td>f_21</td>\n",
       "      <td>000051</td>\n",
       "      <td>Provider</td>\n",
       "      <td>True</td>\n",
       "    </tr>\n",
       "    <tr>\n",
       "      <th>6554</th>\n",
       "      <td>f_18.000199.Provider</td>\n",
       "      <td>Statement</td>\n",
       "      <td>f_18</td>\n",
       "      <td>000199</td>\n",
       "      <td>Provider</td>\n",
       "      <td>True</td>\n",
       "    </tr>\n",
       "    <tr>\n",
       "      <th>7</th>\n",
       "      <td>f_1.000008.Caregiver</td>\n",
       "      <td>Other</td>\n",
       "      <td>f_1</td>\n",
       "      <td>000008</td>\n",
       "      <td>Caregiver</td>\n",
       "      <td>False</td>\n",
       "    </tr>\n",
       "    <tr>\n",
       "      <th>19958</th>\n",
       "      <td>f_40.000581.Caregiver</td>\n",
       "      <td>Statement</td>\n",
       "      <td>f_40</td>\n",
       "      <td>000581</td>\n",
       "      <td>Caregiver</td>\n",
       "      <td>False</td>\n",
       "    </tr>\n",
       "  </tbody>\n",
       "</table>\n",
       "</div>"
      ],
      "text/plain": [
       "               filename.role        tag  file  lineno    speaker  is_therapist\n",
       "4625   f_15.000206.Caregiver  Statement  f_15  000206  Caregiver         False\n",
       "8199    f_21.000051.Provider  Statement  f_21  000051   Provider          True\n",
       "6554    f_18.000199.Provider  Statement  f_18  000199   Provider          True\n",
       "7       f_1.000008.Caregiver      Other   f_1  000008  Caregiver         False\n",
       "19958  f_40.000581.Caregiver  Statement  f_40  000581  Caregiver         False"
      ]
     },
     "execution_count": 54,
     "metadata": {},
     "output_type": "execute_result"
    }
   ],
   "source": [
    "# Standarize therapist\n",
    "therapist_labels = ['Provider', 'Provider:', 'Interviewer']\n",
    "tags['is_therapist'] = False\n",
    "tags.loc[tags.speaker.isin(therapist_labels), 'is_therapist'] = True\n",
    "tags.sample(5)"
   ]
  },
  {
   "cell_type": "code",
   "execution_count": 55,
   "metadata": {},
   "outputs": [
    {
     "name": "stdout",
     "output_type": "stream",
     "text": [
      "# of files: 48\n",
      "# of DAs: 7\n"
     ]
    }
   ],
   "source": [
    "print(\"# of files: {}\".format(len(tags.file.unique())))\n",
    "print(\"# of DAs: {}\".format(len(tags.tag.unique())))"
   ]
  },
  {
   "cell_type": "code",
   "execution_count": 56,
   "metadata": {},
   "outputs": [
    {
     "data": {
      "text/plain": [
       "(28355, 6)"
      ]
     },
     "execution_count": 56,
     "metadata": {},
     "output_type": "execute_result"
    }
   ],
   "source": [
    "tags.shape"
   ]
  },
  {
   "cell_type": "code",
   "execution_count": 57,
   "metadata": {},
   "outputs": [
    {
     "data": {
      "text/plain": [
       "array(['Question', 'Other', 'Statement', 'Backchannel', 'Incomplete',\n",
       "       'Agreement', 'Appreciation'], dtype=object)"
      ]
     },
     "execution_count": 57,
     "metadata": {},
     "output_type": "execute_result"
    }
   ],
   "source": [
    "tags.tag.unique()"
   ]
  },
  {
   "cell_type": "markdown",
   "metadata": {},
   "source": [
    "## Recover Family name"
   ]
  },
  {
   "cell_type": "code",
   "execution_count": 58,
   "metadata": {},
   "outputs": [
    {
     "data": {
      "text/html": [
       "<div>\n",
       "<style scoped>\n",
       "    .dataframe tbody tr th:only-of-type {\n",
       "        vertical-align: middle;\n",
       "    }\n",
       "\n",
       "    .dataframe tbody tr th {\n",
       "        vertical-align: top;\n",
       "    }\n",
       "\n",
       "    .dataframe thead th {\n",
       "        text-align: right;\n",
       "    }\n",
       "</style>\n",
       "<table border=\"1\" class=\"dataframe\">\n",
       "  <thead>\n",
       "    <tr style=\"text-align: right;\">\n",
       "      <th></th>\n",
       "      <th>filenames</th>\n",
       "      <th>code</th>\n",
       "    </tr>\n",
       "  </thead>\n",
       "  <tbody>\n",
       "    <tr>\n",
       "      <th>24</th>\n",
       "      <td>Raising_Healthy_Children_-_PCH-Family_ID_11152...</td>\n",
       "      <td>f_26</td>\n",
       "    </tr>\n",
       "    <tr>\n",
       "      <th>29</th>\n",
       "      <td>Raising_Healthy_Children_-_PCH-Family_ID_11183...</td>\n",
       "      <td>f_31</td>\n",
       "    </tr>\n",
       "    <tr>\n",
       "      <th>35</th>\n",
       "      <td>Raising_Healthy_Children_-_PCH-Family_ID_11215...</td>\n",
       "      <td>f_37</td>\n",
       "    </tr>\n",
       "    <tr>\n",
       "      <th>36</th>\n",
       "      <td>Raising_Healthy_Children_-_PCH-Family_ID_11223...</td>\n",
       "      <td>f_38</td>\n",
       "    </tr>\n",
       "    <tr>\n",
       "      <th>9</th>\n",
       "      <td>11167.opt.txt</td>\n",
       "      <td>f_11</td>\n",
       "    </tr>\n",
       "    <tr>\n",
       "      <th>34</th>\n",
       "      <td>Raising_Healthy_Children_-_PCH-Family_ID_11212...</td>\n",
       "      <td>f_36</td>\n",
       "    </tr>\n",
       "    <tr>\n",
       "      <th>33</th>\n",
       "      <td>Raising_Healthy_Children_-_PCH-Family_ID_11211...</td>\n",
       "      <td>f_35</td>\n",
       "    </tr>\n",
       "    <tr>\n",
       "      <th>45</th>\n",
       "      <td>Raising_Healthy_Children_-_Terros-Fam_ID_31037...</td>\n",
       "      <td>f_47</td>\n",
       "    </tr>\n",
       "    <tr>\n",
       "      <th>21</th>\n",
       "      <td>Raising_Healthy_Children_-_PCH-Fam_ID_11016-Fe...</td>\n",
       "      <td>f_23</td>\n",
       "    </tr>\n",
       "    <tr>\n",
       "      <th>19</th>\n",
       "      <td>Raising_Healthy_Children_-_PCH-FAM_ID_11140-Fe...</td>\n",
       "      <td>f_21</td>\n",
       "    </tr>\n",
       "  </tbody>\n",
       "</table>\n",
       "</div>"
      ],
      "text/plain": [
       "                                            filenames  code\n",
       "24  Raising_Healthy_Children_-_PCH-Family_ID_11152...  f_26\n",
       "29  Raising_Healthy_Children_-_PCH-Family_ID_11183...  f_31\n",
       "35  Raising_Healthy_Children_-_PCH-Family_ID_11215...  f_37\n",
       "36  Raising_Healthy_Children_-_PCH-Family_ID_11223...  f_38\n",
       "9                                       11167.opt.txt  f_11\n",
       "34  Raising_Healthy_Children_-_PCH-Family_ID_11212...  f_36\n",
       "33  Raising_Healthy_Children_-_PCH-Family_ID_11211...  f_35\n",
       "45  Raising_Healthy_Children_-_Terros-Fam_ID_31037...  f_47\n",
       "21  Raising_Healthy_Children_-_PCH-Fam_ID_11016-Fe...  f_23\n",
       "19  Raising_Healthy_Children_-_PCH-FAM_ID_11140-Fe...  f_21"
      ]
     },
     "execution_count": 58,
     "metadata": {},
     "output_type": "execute_result"
    }
   ],
   "source": [
    "orig_files = pd.read_excel(\"../data/DA_ENGLISH_CDC/rename_cdc_files.xlsx\", names = ['filenames', 'code'])\n",
    "orig_files.sample(10)"
   ]
  },
  {
   "cell_type": "code",
   "execution_count": 75,
   "metadata": {},
   "outputs": [],
   "source": [
    "def get_family_id(s):\n",
    "    tokens = s.split(\"-\")\n",
    "    if len(tokens) == 1:\n",
    "        return re.findall(\"(\\d+).opt.txt\", s)[0]\n",
    "    for t in tokens:\n",
    "        if \"FAM\" in t or \"Fam\" in t:\n",
    "            return t.split(\"_\")[-1]"
   ]
  },
  {
   "cell_type": "code",
   "execution_count": 76,
   "metadata": {},
   "outputs": [
    {
     "data": {
      "text/html": [
       "<div>\n",
       "<style scoped>\n",
       "    .dataframe tbody tr th:only-of-type {\n",
       "        vertical-align: middle;\n",
       "    }\n",
       "\n",
       "    .dataframe tbody tr th {\n",
       "        vertical-align: top;\n",
       "    }\n",
       "\n",
       "    .dataframe thead th {\n",
       "        text-align: right;\n",
       "    }\n",
       "</style>\n",
       "<table border=\"1\" class=\"dataframe\">\n",
       "  <thead>\n",
       "    <tr style=\"text-align: right;\">\n",
       "      <th></th>\n",
       "      <th>filenames</th>\n",
       "      <th>code</th>\n",
       "      <th>family</th>\n",
       "    </tr>\n",
       "  </thead>\n",
       "  <tbody>\n",
       "  </tbody>\n",
       "</table>\n",
       "</div>"
      ],
      "text/plain": [
       "Empty DataFrame\n",
       "Columns: [filenames, code, family]\n",
       "Index: []"
      ]
     },
     "execution_count": 76,
     "metadata": {},
     "output_type": "execute_result"
    }
   ],
   "source": [
    "orig_files['family'] = orig_files['filenames'].apply(get_family_id)\n",
    "orig_files[pd.isnull(orig_files['family'])]"
   ]
  },
  {
   "cell_type": "code",
   "execution_count": 78,
   "metadata": {},
   "outputs": [
    {
     "data": {
      "text/plain": [
       "dict_keys(['f_2', 'f_3', 'f_4', 'f_5', 'f_6', 'f_7', 'f_8', 'f_9', 'f_10', 'f_11', 'f_12', 'f_13', 'f_14', 'f_15', 'f_16', 'f_17', 'f_18', 'f_19', 'f_20', 'f_21', 'f_22', 'f_23', 'f_24', 'f_25', 'f_26', 'f_27', 'f_28', 'f_29', 'f_30', 'f_31', 'f_32', 'f_33', 'f_34', 'f_35', 'f_36', 'f_37', 'f_38', 'f_39', 'f_40', 'f_41', 'f_42', 'f_43', 'f_44', 'f_45', 'f_46', 'f_47', 'f_48'])"
      ]
     },
     "execution_count": 78,
     "metadata": {},
     "output_type": "execute_result"
    }
   ],
   "source": [
    "mapping = {row['code']:row['family'] for _, row in orig_files.iterrows()}\n",
    "mapping.keys()"
   ]
  },
  {
   "cell_type": "code",
   "execution_count": 85,
   "metadata": {},
   "outputs": [
    {
     "data": {
      "text/html": [
       "<div>\n",
       "<style scoped>\n",
       "    .dataframe tbody tr th:only-of-type {\n",
       "        vertical-align: middle;\n",
       "    }\n",
       "\n",
       "    .dataframe tbody tr th {\n",
       "        vertical-align: top;\n",
       "    }\n",
       "\n",
       "    .dataframe thead th {\n",
       "        text-align: right;\n",
       "    }\n",
       "</style>\n",
       "<table border=\"1\" class=\"dataframe\">\n",
       "  <thead>\n",
       "    <tr style=\"text-align: right;\">\n",
       "      <th></th>\n",
       "      <th>filename.role</th>\n",
       "      <th>tag</th>\n",
       "      <th>file</th>\n",
       "      <th>lineno</th>\n",
       "      <th>speaker</th>\n",
       "      <th>is_therapist</th>\n",
       "      <th>family</th>\n",
       "    </tr>\n",
       "  </thead>\n",
       "  <tbody>\n",
       "    <tr>\n",
       "      <th>26354</th>\n",
       "      <td>f_6.000762.Caregiver</td>\n",
       "      <td>Question</td>\n",
       "      <td>f_6</td>\n",
       "      <td>000762</td>\n",
       "      <td>Caregiver</td>\n",
       "      <td>False</td>\n",
       "      <td>11052</td>\n",
       "    </tr>\n",
       "    <tr>\n",
       "      <th>5054</th>\n",
       "      <td>f_16.000314.Caregiver</td>\n",
       "      <td>Question</td>\n",
       "      <td>f_16</td>\n",
       "      <td>000314</td>\n",
       "      <td>Caregiver</td>\n",
       "      <td>False</td>\n",
       "      <td>11075</td>\n",
       "    </tr>\n",
       "    <tr>\n",
       "      <th>5131</th>\n",
       "      <td>f_16.000391.Provider</td>\n",
       "      <td>Backchannel</td>\n",
       "      <td>f_16</td>\n",
       "      <td>000391</td>\n",
       "      <td>Provider</td>\n",
       "      <td>True</td>\n",
       "      <td>11075</td>\n",
       "    </tr>\n",
       "    <tr>\n",
       "      <th>17659</th>\n",
       "      <td>f_37.000031.Provider</td>\n",
       "      <td>Statement</td>\n",
       "      <td>f_37</td>\n",
       "      <td>000031</td>\n",
       "      <td>Provider</td>\n",
       "      <td>True</td>\n",
       "      <td>11215</td>\n",
       "    </tr>\n",
       "    <tr>\n",
       "      <th>3605</th>\n",
       "      <td>f_13.000997.Caregiver</td>\n",
       "      <td>Other</td>\n",
       "      <td>f_13</td>\n",
       "      <td>000997</td>\n",
       "      <td>Caregiver</td>\n",
       "      <td>False</td>\n",
       "      <td>11179</td>\n",
       "    </tr>\n",
       "  </tbody>\n",
       "</table>\n",
       "</div>"
      ],
      "text/plain": [
       "               filename.role          tag  file  lineno    speaker  \\\n",
       "26354   f_6.000762.Caregiver     Question   f_6  000762  Caregiver   \n",
       "5054   f_16.000314.Caregiver     Question  f_16  000314  Caregiver   \n",
       "5131    f_16.000391.Provider  Backchannel  f_16  000391   Provider   \n",
       "17659   f_37.000031.Provider    Statement  f_37  000031   Provider   \n",
       "3605   f_13.000997.Caregiver        Other  f_13  000997  Caregiver   \n",
       "\n",
       "       is_therapist  family  \n",
       "26354         False   11052  \n",
       "5054          False   11075  \n",
       "5131           True   11075  \n",
       "17659          True   11215  \n",
       "3605          False   11179  "
      ]
     },
     "execution_count": 85,
     "metadata": {},
     "output_type": "execute_result"
    }
   ],
   "source": [
    "tags['family'] = tags['file'].apply(lambda x: mapping.get(x, -1)).apply(int)\n",
    "tags.sample(5)"
   ]
  },
  {
   "cell_type": "code",
   "execution_count": 100,
   "metadata": {},
   "outputs": [
    {
     "data": {
      "text/html": [
       "<div>\n",
       "<style scoped>\n",
       "    .dataframe tbody tr th:only-of-type {\n",
       "        vertical-align: middle;\n",
       "    }\n",
       "\n",
       "    .dataframe tbody tr th {\n",
       "        vertical-align: top;\n",
       "    }\n",
       "\n",
       "    .dataframe thead th {\n",
       "        text-align: right;\n",
       "    }\n",
       "</style>\n",
       "<table border=\"1\" class=\"dataframe\">\n",
       "  <thead>\n",
       "    <tr style=\"text-align: right;\">\n",
       "      <th></th>\n",
       "      <th>family</th>\n",
       "      <th>is_therapist</th>\n",
       "      <th>tag</th>\n",
       "      <th>frequency</th>\n",
       "    </tr>\n",
       "  </thead>\n",
       "  <tbody>\n",
       "    <tr>\n",
       "      <th>169</th>\n",
       "      <td>11102</td>\n",
       "      <td>False</td>\n",
       "      <td>Statement</td>\n",
       "      <td>91</td>\n",
       "    </tr>\n",
       "    <tr>\n",
       "      <th>21</th>\n",
       "      <td>11010</td>\n",
       "      <td>False</td>\n",
       "      <td>Incomplete</td>\n",
       "      <td>8</td>\n",
       "    </tr>\n",
       "    <tr>\n",
       "      <th>176</th>\n",
       "      <td>11135</td>\n",
       "      <td>False</td>\n",
       "      <td>Backchannel</td>\n",
       "      <td>1</td>\n",
       "    </tr>\n",
       "    <tr>\n",
       "      <th>4</th>\n",
       "      <td>11001</td>\n",
       "      <td>True</td>\n",
       "      <td>Appreciation</td>\n",
       "      <td>2</td>\n",
       "    </tr>\n",
       "    <tr>\n",
       "      <th>159</th>\n",
       "      <td>11100</td>\n",
       "      <td>True</td>\n",
       "      <td>Appreciation</td>\n",
       "      <td>3</td>\n",
       "    </tr>\n",
       "  </tbody>\n",
       "</table>\n",
       "</div>"
      ],
      "text/plain": [
       "     family  is_therapist           tag  frequency\n",
       "169   11102         False     Statement         91\n",
       "21    11010         False    Incomplete          8\n",
       "176   11135         False   Backchannel          1\n",
       "4     11001          True  Appreciation          2\n",
       "159   11100          True  Appreciation          3"
      ]
     },
     "execution_count": 100,
     "metadata": {},
     "output_type": "execute_result"
    }
   ],
   "source": [
    "data = tags[tags['family']!=-1]\n",
    "data = data[['family', 'is_therapist', 'tag', 'lineno']].groupby(['family', 'is_therapist', 'tag']).agg(len)\n",
    "data.reset_index(inplace=True)\n",
    "data = data.rename(columns={'lineno':'frequency'})\n",
    "data.sample(5)"
   ]
  },
  {
   "cell_type": "markdown",
   "metadata": {},
   "source": [
    "## Load COACH scores"
   ]
  },
  {
   "cell_type": "code",
   "execution_count": 101,
   "metadata": {},
   "outputs": [
    {
     "data": {
      "text/html": [
       "<div>\n",
       "<style scoped>\n",
       "    .dataframe tbody tr th:only-of-type {\n",
       "        vertical-align: middle;\n",
       "    }\n",
       "\n",
       "    .dataframe tbody tr th {\n",
       "        vertical-align: top;\n",
       "    }\n",
       "\n",
       "    .dataframe thead th {\n",
       "        text-align: right;\n",
       "    }\n",
       "</style>\n",
       "<table border=\"1\" class=\"dataframe\">\n",
       "  <thead>\n",
       "    <tr style=\"text-align: right;\">\n",
       "      <th></th>\n",
       "      <th>FAMID</th>\n",
       "      <th>D1LNG</th>\n",
       "      <th>D1CDN</th>\n",
       "      <th>D1RTN</th>\n",
       "      <th>D1SCO01</th>\n",
       "      <th>D1SCO02</th>\n",
       "      <th>D1SCO03</th>\n",
       "      <th>D1SCO04</th>\n",
       "      <th>D1SCO05</th>\n",
       "      <th>D2LNG</th>\n",
       "      <th>...</th>\n",
       "      <th>D2SCO04</th>\n",
       "      <th>D2SCO05</th>\n",
       "      <th>D3LNG</th>\n",
       "      <th>D3CDN</th>\n",
       "      <th>D3RTN</th>\n",
       "      <th>D3SCO01</th>\n",
       "      <th>D3SCO02</th>\n",
       "      <th>D3SCO03</th>\n",
       "      <th>D3SCO04</th>\n",
       "      <th>D3SCO05</th>\n",
       "    </tr>\n",
       "  </thead>\n",
       "  <tbody>\n",
       "    <tr>\n",
       "      <th>1</th>\n",
       "      <td>11001</td>\n",
       "      <td>1.0</td>\n",
       "      <td>5.0</td>\n",
       "      <td>1.0</td>\n",
       "      <td>5.0</td>\n",
       "      <td>5.0</td>\n",
       "      <td>4.0</td>\n",
       "      <td>4.0</td>\n",
       "      <td>5.0</td>\n",
       "      <td>1.0</td>\n",
       "      <td>...</td>\n",
       "      <td>5.5</td>\n",
       "      <td>5.5</td>\n",
       "      <td>NaN</td>\n",
       "      <td>NaN</td>\n",
       "      <td>NaN</td>\n",
       "      <td>NaN</td>\n",
       "      <td>NaN</td>\n",
       "      <td>NaN</td>\n",
       "      <td>NaN</td>\n",
       "      <td>NaN</td>\n",
       "    </tr>\n",
       "    <tr>\n",
       "      <th>2</th>\n",
       "      <td>11003</td>\n",
       "      <td>1.0</td>\n",
       "      <td>5.0</td>\n",
       "      <td>1.0</td>\n",
       "      <td>5.0</td>\n",
       "      <td>5.0</td>\n",
       "      <td>5.0</td>\n",
       "      <td>5.0</td>\n",
       "      <td>5.0</td>\n",
       "      <td>NaN</td>\n",
       "      <td>...</td>\n",
       "      <td>NaN</td>\n",
       "      <td>NaN</td>\n",
       "      <td>NaN</td>\n",
       "      <td>NaN</td>\n",
       "      <td>NaN</td>\n",
       "      <td>NaN</td>\n",
       "      <td>NaN</td>\n",
       "      <td>NaN</td>\n",
       "      <td>NaN</td>\n",
       "      <td>NaN</td>\n",
       "    </tr>\n",
       "    <tr>\n",
       "      <th>3</th>\n",
       "      <td>11006</td>\n",
       "      <td>1.0</td>\n",
       "      <td>14.0</td>\n",
       "      <td>3.0</td>\n",
       "      <td>3.5</td>\n",
       "      <td>3.0</td>\n",
       "      <td>3.0</td>\n",
       "      <td>3.0</td>\n",
       "      <td>3.0</td>\n",
       "      <td>NaN</td>\n",
       "      <td>...</td>\n",
       "      <td>NaN</td>\n",
       "      <td>NaN</td>\n",
       "      <td>1.0</td>\n",
       "      <td>10.0</td>\n",
       "      <td>3.0</td>\n",
       "      <td>5.0</td>\n",
       "      <td>4.5</td>\n",
       "      <td>5.5</td>\n",
       "      <td>5.0</td>\n",
       "      <td>5.5</td>\n",
       "    </tr>\n",
       "    <tr>\n",
       "      <th>4</th>\n",
       "      <td>11010</td>\n",
       "      <td>1.0</td>\n",
       "      <td>5.0</td>\n",
       "      <td>1.0</td>\n",
       "      <td>5.0</td>\n",
       "      <td>5.0</td>\n",
       "      <td>5.0</td>\n",
       "      <td>6.0</td>\n",
       "      <td>6.0</td>\n",
       "      <td>1.0</td>\n",
       "      <td>...</td>\n",
       "      <td>3.5</td>\n",
       "      <td>4.0</td>\n",
       "      <td>NaN</td>\n",
       "      <td>NaN</td>\n",
       "      <td>NaN</td>\n",
       "      <td>NaN</td>\n",
       "      <td>NaN</td>\n",
       "      <td>NaN</td>\n",
       "      <td>NaN</td>\n",
       "      <td>NaN</td>\n",
       "    </tr>\n",
       "    <tr>\n",
       "      <th>5</th>\n",
       "      <td>11011</td>\n",
       "      <td>1.0</td>\n",
       "      <td>14.0</td>\n",
       "      <td>1.0</td>\n",
       "      <td>4.0</td>\n",
       "      <td>3.5</td>\n",
       "      <td>3.0</td>\n",
       "      <td>4.0</td>\n",
       "      <td>3.5</td>\n",
       "      <td>1.0</td>\n",
       "      <td>...</td>\n",
       "      <td>5.0</td>\n",
       "      <td>4.0</td>\n",
       "      <td>NaN</td>\n",
       "      <td>NaN</td>\n",
       "      <td>NaN</td>\n",
       "      <td>NaN</td>\n",
       "      <td>NaN</td>\n",
       "      <td>NaN</td>\n",
       "      <td>NaN</td>\n",
       "      <td>NaN</td>\n",
       "    </tr>\n",
       "  </tbody>\n",
       "</table>\n",
       "<p>5 rows × 25 columns</p>\n",
       "</div>"
      ],
      "text/plain": [
       "   FAMID  D1LNG  D1CDN  D1RTN  D1SCO01  D1SCO02  D1SCO03  D1SCO04  D1SCO05  \\\n",
       "1  11001    1.0    5.0    1.0      5.0      5.0      4.0      4.0      5.0   \n",
       "2  11003    1.0    5.0    1.0      5.0      5.0      5.0      5.0      5.0   \n",
       "3  11006    1.0   14.0    3.0      3.5      3.0      3.0      3.0      3.0   \n",
       "4  11010    1.0    5.0    1.0      5.0      5.0      5.0      6.0      6.0   \n",
       "5  11011    1.0   14.0    1.0      4.0      3.5      3.0      4.0      3.5   \n",
       "\n",
       "   D2LNG  ...  D2SCO04  D2SCO05  D3LNG  D3CDN  D3RTN  D3SCO01  D3SCO02  \\\n",
       "1    1.0  ...      5.5      5.5    NaN    NaN    NaN      NaN      NaN   \n",
       "2    NaN  ...      NaN      NaN    NaN    NaN    NaN      NaN      NaN   \n",
       "3    NaN  ...      NaN      NaN    1.0   10.0    3.0      5.0      4.5   \n",
       "4    1.0  ...      3.5      4.0    NaN    NaN    NaN      NaN      NaN   \n",
       "5    1.0  ...      5.0      4.0    NaN    NaN    NaN      NaN      NaN   \n",
       "\n",
       "   D3SCO03  D3SCO04  D3SCO05  \n",
       "1      NaN      NaN      NaN  \n",
       "2      NaN      NaN      NaN  \n",
       "3      5.5      5.0      5.5  \n",
       "4      NaN      NaN      NaN  \n",
       "5      NaN      NaN      NaN  \n",
       "\n",
       "[5 rows x 25 columns]"
      ]
     },
     "execution_count": 101,
     "metadata": {},
     "output_type": "execute_result"
    }
   ],
   "source": [
    "coach_scores = pd.read_csv(\"../data/COACH_scores.csv\", index_col = 0)\n",
    "coach_scores.head()"
   ]
  },
  {
   "cell_type": "code",
   "execution_count": 102,
   "metadata": {},
   "outputs": [
    {
     "data": {
      "text/html": [
       "<div>\n",
       "<style scoped>\n",
       "    .dataframe tbody tr th:only-of-type {\n",
       "        vertical-align: middle;\n",
       "    }\n",
       "\n",
       "    .dataframe tbody tr th {\n",
       "        vertical-align: top;\n",
       "    }\n",
       "\n",
       "    .dataframe thead th {\n",
       "        text-align: right;\n",
       "    }\n",
       "</style>\n",
       "<table border=\"1\" class=\"dataframe\">\n",
       "  <thead>\n",
       "    <tr style=\"text-align: right;\">\n",
       "      <th></th>\n",
       "      <th>is_therapist</th>\n",
       "      <th>tag</th>\n",
       "      <th>frequency</th>\n",
       "      <th>FAMID</th>\n",
       "      <th>D1LNG</th>\n",
       "      <th>D1CDN</th>\n",
       "      <th>D1RTN</th>\n",
       "      <th>D1SCO01</th>\n",
       "      <th>D1SCO02</th>\n",
       "      <th>D1SCO03</th>\n",
       "      <th>...</th>\n",
       "      <th>D2SCO04</th>\n",
       "      <th>D2SCO05</th>\n",
       "      <th>D3LNG</th>\n",
       "      <th>D3CDN</th>\n",
       "      <th>D3RTN</th>\n",
       "      <th>D3SCO01</th>\n",
       "      <th>D3SCO02</th>\n",
       "      <th>D3SCO03</th>\n",
       "      <th>D3SCO04</th>\n",
       "      <th>D3SCO05</th>\n",
       "    </tr>\n",
       "  </thead>\n",
       "  <tbody>\n",
       "    <tr>\n",
       "      <th>460</th>\n",
       "      <td>True</td>\n",
       "      <td>Statement</td>\n",
       "      <td>98</td>\n",
       "      <td>31037</td>\n",
       "      <td>1.0</td>\n",
       "      <td>13.0</td>\n",
       "      <td>1.0</td>\n",
       "      <td>5.0</td>\n",
       "      <td>4.0</td>\n",
       "      <td>4.0</td>\n",
       "      <td>...</td>\n",
       "      <td>3.5</td>\n",
       "      <td>4.0</td>\n",
       "      <td>1.0</td>\n",
       "      <td>13.0</td>\n",
       "      <td>1.0</td>\n",
       "      <td>4.5</td>\n",
       "      <td>4.0</td>\n",
       "      <td>4.0</td>\n",
       "      <td>4.5</td>\n",
       "      <td>4.0</td>\n",
       "    </tr>\n",
       "    <tr>\n",
       "      <th>176</th>\n",
       "      <td>False</td>\n",
       "      <td>Backchannel</td>\n",
       "      <td>1</td>\n",
       "      <td>11135</td>\n",
       "      <td>1.0</td>\n",
       "      <td>10.0</td>\n",
       "      <td>2.0</td>\n",
       "      <td>6.0</td>\n",
       "      <td>6.0</td>\n",
       "      <td>6.0</td>\n",
       "      <td>...</td>\n",
       "      <td>4.0</td>\n",
       "      <td>4.0</td>\n",
       "      <td>1.0</td>\n",
       "      <td>12.0</td>\n",
       "      <td>1.0</td>\n",
       "      <td>5.0</td>\n",
       "      <td>5.0</td>\n",
       "      <td>4.0</td>\n",
       "      <td>4.0</td>\n",
       "      <td>4.5</td>\n",
       "    </tr>\n",
       "    <tr>\n",
       "      <th>305</th>\n",
       "      <td>True</td>\n",
       "      <td>Other</td>\n",
       "      <td>228</td>\n",
       "      <td>11194</td>\n",
       "      <td>1.0</td>\n",
       "      <td>8.0</td>\n",
       "      <td>1.0</td>\n",
       "      <td>4.0</td>\n",
       "      <td>5.0</td>\n",
       "      <td>4.0</td>\n",
       "      <td>...</td>\n",
       "      <td>NaN</td>\n",
       "      <td>NaN</td>\n",
       "      <td>1.0</td>\n",
       "      <td>8.0</td>\n",
       "      <td>1.0</td>\n",
       "      <td>5.0</td>\n",
       "      <td>5.0</td>\n",
       "      <td>6.0</td>\n",
       "      <td>5.0</td>\n",
       "      <td>5.5</td>\n",
       "    </tr>\n",
       "    <tr>\n",
       "      <th>459</th>\n",
       "      <td>True</td>\n",
       "      <td>Question</td>\n",
       "      <td>24</td>\n",
       "      <td>31037</td>\n",
       "      <td>1.0</td>\n",
       "      <td>13.0</td>\n",
       "      <td>1.0</td>\n",
       "      <td>5.0</td>\n",
       "      <td>4.0</td>\n",
       "      <td>4.0</td>\n",
       "      <td>...</td>\n",
       "      <td>3.5</td>\n",
       "      <td>4.0</td>\n",
       "      <td>1.0</td>\n",
       "      <td>13.0</td>\n",
       "      <td>1.0</td>\n",
       "      <td>4.5</td>\n",
       "      <td>4.0</td>\n",
       "      <td>4.0</td>\n",
       "      <td>4.5</td>\n",
       "      <td>4.0</td>\n",
       "    </tr>\n",
       "    <tr>\n",
       "      <th>73</th>\n",
       "      <td>False</td>\n",
       "      <td>Question</td>\n",
       "      <td>6</td>\n",
       "      <td>11030</td>\n",
       "      <td>1.0</td>\n",
       "      <td>4.0</td>\n",
       "      <td>1.0</td>\n",
       "      <td>5.0</td>\n",
       "      <td>5.0</td>\n",
       "      <td>4.0</td>\n",
       "      <td>...</td>\n",
       "      <td>NaN</td>\n",
       "      <td>NaN</td>\n",
       "      <td>NaN</td>\n",
       "      <td>NaN</td>\n",
       "      <td>NaN</td>\n",
       "      <td>NaN</td>\n",
       "      <td>NaN</td>\n",
       "      <td>NaN</td>\n",
       "      <td>NaN</td>\n",
       "      <td>NaN</td>\n",
       "    </tr>\n",
       "  </tbody>\n",
       "</table>\n",
       "<p>5 rows × 28 columns</p>\n",
       "</div>"
      ],
      "text/plain": [
       "     is_therapist          tag  frequency  FAMID  D1LNG  D1CDN  D1RTN  \\\n",
       "460          True    Statement         98  31037    1.0   13.0    1.0   \n",
       "176         False  Backchannel          1  11135    1.0   10.0    2.0   \n",
       "305          True        Other        228  11194    1.0    8.0    1.0   \n",
       "459          True     Question         24  31037    1.0   13.0    1.0   \n",
       "73          False     Question          6  11030    1.0    4.0    1.0   \n",
       "\n",
       "     D1SCO01  D1SCO02  D1SCO03  ...  D2SCO04  D2SCO05  D3LNG  D3CDN  D3RTN  \\\n",
       "460      5.0      4.0      4.0  ...      3.5      4.0    1.0   13.0    1.0   \n",
       "176      6.0      6.0      6.0  ...      4.0      4.0    1.0   12.0    1.0   \n",
       "305      4.0      5.0      4.0  ...      NaN      NaN    1.0    8.0    1.0   \n",
       "459      5.0      4.0      4.0  ...      3.5      4.0    1.0   13.0    1.0   \n",
       "73       5.0      5.0      4.0  ...      NaN      NaN    NaN    NaN    NaN   \n",
       "\n",
       "     D3SCO01  D3SCO02  D3SCO03  D3SCO04  D3SCO05  \n",
       "460      4.5      4.0      4.0      4.5      4.0  \n",
       "176      5.0      5.0      4.0      4.0      4.5  \n",
       "305      5.0      5.0      6.0      5.0      5.5  \n",
       "459      4.5      4.0      4.0      4.5      4.0  \n",
       "73       NaN      NaN      NaN      NaN      NaN  \n",
       "\n",
       "[5 rows x 28 columns]"
      ]
     },
     "execution_count": 102,
     "metadata": {},
     "output_type": "execute_result"
    }
   ],
   "source": [
    "data = pd.merge(data, coach_scores, left_on = 'family', right_on='FAMID')\n",
    "data.drop('family', axis = 1, inplace = True)\n",
    "data.sample(5)"
   ]
  },
  {
   "cell_type": "code",
   "execution_count": 104,
   "metadata": {},
   "outputs": [
    {
     "data": {
      "image/png": "[encoded data removed]",
      "text/plain": [
       "<matplotlib.figure.Figure at 0x1c17683ba8>"
      ]
     },
     "metadata": {},
     "output_type": "display_data"
    }
   ],
   "source": [
    "fig, axs = plt.subplots(ncols = 2, sharey = True)\n",
    "g = sns.boxplot(x = 'tag',\n",
    "            y = 'frequency', data = data[data['is_therapist'] == True],\n",
    "            ax = axs[0]);\n",
    "axs[0].set_title(\"Therapist\")\n",
    "g = sns.boxplot(x = 'tag',\n",
    "            y = 'frequency',\n",
    "            data = data[data['is_therapist'] == False],\n",
    "            ax = axs[1]);\n",
    "axs[1].set_title(\"Not-Therapist\")\n",
    "#plt.ylabel(\"Freq. of label\");\n",
    "#plt.title(\"Label frequency for therapist dialogue\")\n",
    "\n",
    "axs[0].set_xticklabels(axs[0].get_xticklabels(), rotation = 30)\n",
    "axs[1].set_xticklabels(axs[0].get_xticklabels(), rotation = 30)\n",
    "\n",
    "plt.show();"
   ]
  },
  {
   "cell_type": "markdown",
   "metadata": {},
   "source": [
    "# Therapist correlations\n",
    "Calculate the spearman correlation between the frequency of each label and scores. \n",
    "\n",
    "_update Oct 4th_: Use a linear model instead of going one by one.\n",
    "\n",
    "\n",
    "First, we create a matrix $X$ where rows are the families and columns are the number of times either therapist or non-therapist used each DA. We then fit a linear model to predict the corresponding COACH score.\n",
    "\n",
    "## Therapist"
   ]
  },
  {
   "cell_type": "code",
   "execution_count": 120,
   "metadata": {},
   "outputs": [
    {
     "data": {
      "text/plain": [
       "Index(['is_therapist', 'tag', 'frequency', 'FAMID', 'D1LNG', 'D1CDN', 'D1RTN',\n",
       "       'D1SCO01', 'D1SCO02', 'D1SCO03', 'D1SCO04', 'D1SCO05', 'D2LNG', 'D2CDN',\n",
       "       'D2RTN', 'D2SCO01', 'D2SCO02', 'D2SCO03', 'D2SCO04', 'D2SCO05', 'D3LNG',\n",
       "       'D3CDN', 'D3RTN', 'D3SCO01', 'D3SCO02', 'D3SCO03', 'D3SCO04',\n",
       "       'D3SCO05'],\n",
       "      dtype='object')"
      ]
     },
     "execution_count": 120,
     "metadata": {},
     "output_type": "execute_result"
    }
   ],
   "source": [
    "therapist_d.columns"
   ]
  },
  {
   "cell_type": "code",
   "execution_count": 127,
   "metadata": {},
   "outputs": [
    {
     "name": "stdout",
     "output_type": "stream",
     "text": [
      "(47, 7)\n",
      "(47, 3, 5)\n"
     ]
    }
   ],
   "source": [
    "therapist_d = data[data.is_therapist]\n",
    "X = np.zeros((len(therapist_d.FAMID.unique()), len(therapist_d.tag.unique())))\n",
    "Y = np.zeros((len(therapist_d.FAMID.unique()), 3, 5))\n",
    "\n",
    "family_idx = {fam:i for i, fam in enumerate(therapist_d.FAMID.unique())}\n",
    "tag_idx = {t:i for i, t in enumerate(therapist_d.tag.unique())}\n",
    "coach_scores = {0:['D1SCO01', 'D1SCO02', 'D1SCO03', 'D1SCO04', 'D1SCO05'],\n",
    "                1:['D2SCO01', 'D2SCO02', 'D2SCO03', 'D2SCO04', 'D2SCO05'],\n",
    "                2:['D3SCO01', 'D3SCO02', 'D3SCO03', 'D3SCO04', 'D3SCO05']}\n",
    "\n",
    "\n",
    "for idx, row in therapist_d.iterrows():\n",
    "    i = family_idx[row['FAMID']]\n",
    "    j = tag_idx[row['tag']]\n",
    "    X[i, j] = row['frequency']\n",
    "\n",
    "    for k, z in coach_scores.items():\n",
    "        for l in range(len(z)):\n",
    "            Y[i, k, l] = row[z[l]]\n",
    "        \n",
    "print(X.shape)\n",
    "print(Y.shape)"
   ]
  },
  {
   "cell_type": "code",
   "execution_count": 164,
   "metadata": {},
   "outputs": [
    {
     "data": {
      "text/plain": [
       "(47, 7)"
      ]
     },
     "execution_count": 164,
     "metadata": {},
     "output_type": "execute_result"
    }
   ],
   "source": [
    "# Standarize columns\n",
    "from sklearn.preprocessing import MinMaxScaler\n",
    "scaler = MinMaxScaler()\n",
    "X = scaler.fit_transform(X)\n",
    "X.shape"
   ]
  },
  {
   "cell_type": "code",
   "execution_count": 167,
   "metadata": {},
   "outputs": [
    {
     "data": {
      "text/plain": [
       "array([0.5 , 0.  , 0.25, 0.5 , 0.  , 0.  , 0.  , 0.  , 0.25, 0.  , 0.25,\n",
       "       0.  , 0.25, 0.  , 0.5 , 0.75, 0.25, 0.  , 0.5 , 0.25, 1.  , 0.25,\n",
       "       0.  , 0.  , 0.  , 0.5 , 0.75, 1.  , 0.5 , 0.  , 0.25, 0.  , 0.5 ,\n",
       "       0.  , 0.75, 0.25, 0.5 , 0.  , 0.  , 0.  , 0.5 , 0.25, 0.  , 0.  ,\n",
       "       0.  , 0.  , 0.75])"
      ]
     },
     "execution_count": 167,
     "metadata": {},
     "output_type": "execute_result"
    }
   ],
   "source": [
    "X[:,0]"
   ]
  },
  {
   "cell_type": "code",
   "execution_count": 168,
   "metadata": {},
   "outputs": [],
   "source": [
    "# fit all models\n",
    "models = []\n",
    "for k in range(3):\n",
    "    for score in range(5):\n",
    "        models.append((k, score, sm.OLS(Y[:, k, score], X).fit()))"
   ]
  },
  {
   "cell_type": "code",
   "execution_count": 169,
   "metadata": {},
   "outputs": [],
   "source": [
    "# Holm-bonferroni correction\n",
    "def holmBonferroni(models):\n",
    "    res_2 = sorted(models, key = lambda x: x[2].f_pvalue)\n",
    "    m = len(res_2)\n",
    "\n",
    "    k = 0\n",
    "    while k < len(res_2) and res_2[k][2].f_pvalue < 0.05 / (m + 1 - k - 1):\n",
    "        k += 1\n",
    "\n",
    "    return res_2[:(k - 1)]\n",
    "\n",
    "models_corr = [(coach_scores[k][l], m) for k, l, m in holmBonferroni(models)]"
   ]
  },
  {
   "cell_type": "code",
   "execution_count": 170,
   "metadata": {},
   "outputs": [
    {
     "data": {
      "text/plain": [
       "dict_items([('Appreciation', 0), ('Backchannel', 1), ('Incomplete', 2), ('Other', 3), ('Question', 4), ('Statement', 5), ('Agreement', 6)])"
      ]
     },
     "execution_count": 170,
     "metadata": {},
     "output_type": "execute_result"
    }
   ],
   "source": [
    "tag_idx.items()"
   ]
  },
  {
   "cell_type": "code",
   "execution_count": 172,
   "metadata": {},
   "outputs": [
    {
     "data": {
      "text/plain": [
       "4"
      ]
     },
     "execution_count": 172,
     "metadata": {},
     "output_type": "execute_result"
    }
   ],
   "source": [
    "len(models_corr)"
   ]
  },
  {
   "cell_type": "markdown",
   "metadata": {},
   "source": [
    "## Results\n",
    " * D1SCO04 has a significant positive relation with Statement (x's start at 1 instead of 0)"
   ]
  },
  {
   "cell_type": "code",
   "execution_count": 171,
   "metadata": {},
   "outputs": [
    {
     "name": "stdout",
     "output_type": "stream",
     "text": [
      "D1SCO04\n",
      "                            OLS Regression Results                            \n",
      "==============================================================================\n",
      "Dep. Variable:                      y   R-squared:                       0.847\n",
      "Model:                            OLS   Adj. R-squared:                  0.820\n",
      "Method:                 Least Squares   F-statistic:                     31.64\n",
      "Date:                Tue, 10 Sep 2019   Prob (F-statistic):           2.20e-14\n",
      "Time:                        11:47:27   Log-Likelihood:                -91.908\n",
      "No. Observations:                  47   AIC:                             197.8\n",
      "Df Residuals:                      40   BIC:                             210.8\n",
      "Df Model:                           7                                         \n",
      "Covariance Type:            nonrobust                                         \n",
      "==============================================================================\n",
      "                 coef    std err          t      P>|t|      [0.025      0.975]\n",
      "------------------------------------------------------------------------------\n",
      "x1             1.3399      0.929      1.443      0.157      -0.537       3.217\n",
      "x2             0.5156      1.671      0.309      0.759      -2.861       3.892\n",
      "x3             2.4404      2.098      1.163      0.252      -1.801       6.682\n",
      "x4             2.8557      1.789      1.596      0.118      -0.760       6.472\n",
      "x5            -2.1316      1.951     -1.092      0.281      -6.075       1.812\n",
      "x6             6.1986      1.102      5.622      0.000       3.970       8.427\n",
      "x7             1.2968      1.361      0.953      0.346      -1.453       4.047\n",
      "==============================================================================\n",
      "Omnibus:                        0.819   Durbin-Watson:                   1.519\n",
      "Prob(Omnibus):                  0.664   Jarque-Bera (JB):                0.381\n",
      "Skew:                          -0.212   Prob(JB):                        0.827\n",
      "Kurtosis:                       3.121   Cond. No.                         6.86\n",
      "==============================================================================\n",
      "\n",
      "Warnings:\n",
      "[1] Standard Errors assume that the covariance matrix of the errors is correctly specified.\n"
     ]
    }
   ],
   "source": [
    "score, model = models_corr[0]\n",
    "print(score)\n",
    "print(model.summary())"
   ]
  },
  {
   "cell_type": "markdown",
   "metadata": {},
   "source": [
    "* D1SCO05 has a significant positive relation with Agreement"
   ]
  },
  {
   "cell_type": "code",
   "execution_count": 173,
   "metadata": {},
   "outputs": [
    {
     "name": "stdout",
     "output_type": "stream",
     "text": [
      "D1SCO05\n",
      "                            OLS Regression Results                            \n",
      "==============================================================================\n",
      "Dep. Variable:                      y   R-squared:                       0.844\n",
      "Model:                            OLS   Adj. R-squared:                  0.816\n",
      "Method:                 Least Squares   F-statistic:                     30.87\n",
      "Date:                Tue, 10 Sep 2019   Prob (F-statistic):           3.31e-14\n",
      "Time:                        11:48:02   Log-Likelihood:                -93.984\n",
      "No. Observations:                  47   AIC:                             202.0\n",
      "Df Residuals:                      40   BIC:                             214.9\n",
      "Df Model:                           7                                         \n",
      "Covariance Type:            nonrobust                                         \n",
      "==============================================================================\n",
      "                 coef    std err          t      P>|t|      [0.025      0.975]\n",
      "------------------------------------------------------------------------------\n",
      "x1             1.6400      0.971      1.690      0.099      -0.321       3.602\n",
      "x2            -0.4114      1.746     -0.236      0.815      -3.941       3.118\n",
      "x3             2.6496      2.193      1.208      0.234      -1.783       7.082\n",
      "x4             3.3561      1.870      1.795      0.080      -0.423       7.135\n",
      "x5            -2.4791      2.040     -1.216      0.231      -6.601       1.643\n",
      "x6             6.4082      1.152      5.561      0.000       4.079       8.737\n",
      "x7             1.5324      1.422      1.077      0.288      -1.342       4.407\n",
      "==============================================================================\n",
      "Omnibus:                        0.898   Durbin-Watson:                   1.646\n",
      "Prob(Omnibus):                  0.638   Jarque-Bera (JB):                0.965\n",
      "Skew:                          -0.243   Prob(JB):                        0.617\n",
      "Kurtosis:                       2.494   Cond. No.                         6.86\n",
      "==============================================================================\n",
      "\n",
      "Warnings:\n",
      "[1] Standard Errors assume that the covariance matrix of the errors is correctly specified.\n"
     ]
    }
   ],
   "source": [
    "score, model = models_corr[1]\n",
    "print(score)\n",
    "print(model.summary())"
   ]
  },
  {
   "cell_type": "markdown",
   "metadata": {},
   "source": [
    "* D1SCO01 has a significant positive relation with Statement"
   ]
  },
  {
   "cell_type": "code",
   "execution_count": 174,
   "metadata": {},
   "outputs": [
    {
     "name": "stdout",
     "output_type": "stream",
     "text": [
      "D1SCO01\n",
      "                            OLS Regression Results                            \n",
      "==============================================================================\n",
      "Dep. Variable:                      y   R-squared:                       0.840\n",
      "Model:                            OLS   Adj. R-squared:                  0.813\n",
      "Method:                 Least Squares   F-statistic:                     30.10\n",
      "Date:                Tue, 10 Sep 2019   Prob (F-statistic):           5.02e-14\n",
      "Time:                        11:48:51   Log-Likelihood:                -97.129\n",
      "No. Observations:                  47   AIC:                             208.3\n",
      "Df Residuals:                      40   BIC:                             221.2\n",
      "Df Model:                           7                                         \n",
      "Covariance Type:            nonrobust                                         \n",
      "==============================================================================\n",
      "                 coef    std err          t      P>|t|      [0.025      0.975]\n",
      "------------------------------------------------------------------------------\n",
      "x1             1.9746      1.038      1.903      0.064      -0.123       4.072\n",
      "x2            -0.4142      1.867     -0.222      0.826      -4.188       3.359\n",
      "x3             2.4686      2.345      1.053      0.299      -2.271       7.208\n",
      "x4             3.2244      1.999      1.613      0.115      -0.816       7.265\n",
      "x5            -2.7215      2.181     -1.248      0.219      -7.129       1.686\n",
      "x6             7.0366      1.232      5.711      0.000       4.547       9.527\n",
      "x7             1.2459      1.521      0.819      0.417      -1.827       4.319\n",
      "==============================================================================\n",
      "Omnibus:                        0.085   Durbin-Watson:                   1.626\n",
      "Prob(Omnibus):                  0.958   Jarque-Bera (JB):                0.158\n",
      "Skew:                           0.092   Prob(JB):                        0.924\n",
      "Kurtosis:                       2.783   Cond. No.                         6.86\n",
      "==============================================================================\n",
      "\n",
      "Warnings:\n",
      "[1] Standard Errors assume that the covariance matrix of the errors is correctly specified.\n"
     ]
    }
   ],
   "source": [
    "score, model = models_corr[2]\n",
    "print(score)\n",
    "print(model.summary())"
   ]
  },
  {
   "cell_type": "markdown",
   "metadata": {},
   "source": [
    "* D1SCO02 has a significant positive relation with Statement and with Appreciation"
   ]
  },
  {
   "cell_type": "code",
   "execution_count": 175,
   "metadata": {},
   "outputs": [
    {
     "name": "stdout",
     "output_type": "stream",
     "text": [
      "D1SCO02\n",
      "                            OLS Regression Results                            \n",
      "==============================================================================\n",
      "Dep. Variable:                      y   R-squared:                       0.827\n",
      "Model:                            OLS   Adj. R-squared:                  0.797\n",
      "Method:                 Least Squares   F-statistic:                     27.40\n",
      "Date:                Tue, 10 Sep 2019   Prob (F-statistic):           2.32e-13\n",
      "Time:                        11:49:45   Log-Likelihood:                -98.763\n",
      "No. Observations:                  47   AIC:                             211.5\n",
      "Df Residuals:                      40   BIC:                             224.5\n",
      "Df Model:                           7                                         \n",
      "Covariance Type:            nonrobust                                         \n",
      "==============================================================================\n",
      "                 coef    std err          t      P>|t|      [0.025      0.975]\n",
      "------------------------------------------------------------------------------\n",
      "x1             2.2974      1.074      2.138      0.039       0.126       4.469\n",
      "x2            -0.2588      1.933     -0.134      0.894      -4.166       3.648\n",
      "x3             2.1166      2.428      0.872      0.389      -2.791       7.024\n",
      "x4             3.7313      2.070      1.803      0.079      -0.452       7.915\n",
      "x5            -1.6462      2.258     -0.729      0.470      -6.209       2.917\n",
      "x6             5.7619      1.276      4.517      0.000       3.184       8.340\n",
      "x7             1.8693      1.574      1.187      0.242      -1.313       5.051\n",
      "==============================================================================\n",
      "Omnibus:                        0.152   Durbin-Watson:                   1.607\n",
      "Prob(Omnibus):                  0.927   Jarque-Bera (JB):                0.207\n",
      "Skew:                           0.123   Prob(JB):                        0.902\n",
      "Kurtosis:                       2.788   Cond. No.                         6.86\n",
      "==============================================================================\n",
      "\n",
      "Warnings:\n",
      "[1] Standard Errors assume that the covariance matrix of the errors is correctly specified.\n"
     ]
    }
   ],
   "source": [
    "score, model = models_corr[3]\n",
    "print(score)\n",
    "print(model.summary())"
   ]
  },
  {
   "cell_type": "code",
   "execution_count": null,
   "metadata": {},
   "outputs": [],
   "source": []
  }
 ],
 "metadata": {
  "kernelspec": {
   "display_name": "Python 3",
   "language": "python",
   "name": "python3"
  },
  "language_info": {
   "codemirror_mode": {
    "name": "ipython",
    "version": 3
   },
   "file_extension": ".py",
   "mimetype": "text/x-python",
   "name": "python",
   "nbconvert_exporter": "python",
   "pygments_lexer": "ipython3",
   "version": "3.6.7"
  }
 },
 "nbformat": 4,
 "nbformat_minor": 2
}
